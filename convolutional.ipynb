{
 "cells": [
  {
   "cell_type": "markdown",
   "metadata": {},
   "source": [
    "Convolutional Code (Конволюційні коди):\n",
    "\n",
    "Конволюційні коди - це класи кодів, які використовуються в канальній кодуванні з використанням техніки згортки. Вони передаються через канал у вигляді конволюційного потоку, який формується з вхідної послідовності бітів за допомогою конволюційного енкодера. Конволюційні коди зазвичай використовуються для виявлення та виправлення помилок у бездротових та мобільних комунікаційних системах"
   ]
  },
  {
   "cell_type": "code",
   "execution_count": 30,
   "metadata": {},
   "outputs": [
    {
     "name": "stdout",
     "output_type": "stream",
     "text": [
      "Кодована послідовність: 001110010111100\n"
     ]
    }
   ],
   "source": [
    "def convolutional_encode(input_sequence):\n",
    "    left_flip_flop = 0\n",
    "    right_flip_flop = 0\n",
    "\n",
    "    encoded_sequence = \"\"\n",
    "\n",
    "    for bit in input_sequence:\n",
    "        left_output = left_flip_flop\n",
    "        right_output = right_flip_flop\n",
    "\n",
    "        left_flip_flop = int(bit)\n",
    "        right_flip_flop = left_output\n",
    "\n",
    "        encoder_output = (left_output + right_output) % 2\n",
    "        encoded_sequence += str(encoder_output)\n",
    "\n",
    "    return encoded_sequence\n",
    "\n",
    "input_sequence = \"010111001010001\"\n",
    "encoded_sequence = convolutional_encode(input_sequence)\n",
    "print(\"Кодована послідовність:\", encoded_sequence)"
   ]
  },
  {
   "cell_type": "code",
   "execution_count": 38,
   "metadata": {},
   "outputs": [
    {
     "name": "stdout",
     "output_type": "stream",
     "text": [
      "001110010111100\n",
      "Повідомлення з помилками: 100101010101101\n"
     ]
    }
   ],
   "source": [
    "import random\n",
    "\n",
    "\n",
    "def add_errors(message, error_probability):\n",
    "    message_list = list(message)\n",
    "    for i in range(len(message_list)):\n",
    "        random_number = random.random()\n",
    "        if random_number < error_probability:\n",
    "            message_list[i] = \"0\" if message_list[i] == \"1\" else \"1\"\n",
    "    return \"\".join(message_list)\n",
    "\n",
    "\n",
    "message = \"001110010111100\"\n",
    "error_probability = 0.3\n",
    "corrupted_message = add_errors(message, error_probability)\n",
    "print(message)\n",
    "print(\"Повідомлення з помилками:\", corrupted_message)"
   ]
  },
  {
   "cell_type": "code",
   "execution_count": 49,
   "metadata": {},
   "outputs": [
    {
     "name": "stdout",
     "output_type": "stream",
     "text": [
      "001110010111100\n",
      "000000000000000\n"
     ]
    }
   ],
   "source": [
    "def convolutional_decode(encoded_sequence):\n",
    "    decoded_sequence = \"\"\n",
    "    prev_state = (0, 0, 0, 0)\n",
    "    next_state_table = {\n",
    "        (0, 0): (0, 0, 0, 0),\n",
    "        (0, 1): (0, 2, 1, 3),\n",
    "        (1, 0): (2, 0, 3, 1),\n",
    "        (1, 1): (2, 2, 3, 3),\n",
    "    }\n",
    "\n",
    "    for received_bit in encoded_sequence:\n",
    "        next_state = next_state_table[(prev_state[0], int(received_bit))]\n",
    "        decoded_sequence += str(next_state[0])\n",
    "\n",
    "        prev_state = next_state\n",
    "\n",
    "    return decoded_sequence\n",
    "\n",
    "\n",
    "print(encoded_sequence)\n",
    "print(convolutional_decode(encoded_sequence))"
   ]
  },
  {
   "cell_type": "code",
   "execution_count": 1,
   "metadata": {},
   "outputs": [
    {
     "ename": "ModuleNotFoundError",
     "evalue": "No module named 'mathplotlob'",
     "output_type": "error",
     "traceback": [
      "\u001b[1;31m---------------------------------------------------------------------------\u001b[0m",
      "\u001b[1;31mModuleNotFoundError\u001b[0m                       Traceback (most recent call last)",
      "Cell \u001b[1;32mIn[1], line 3\u001b[0m\n\u001b[0;32m      1\u001b[0m \u001b[38;5;28;01mimport\u001b[39;00m \u001b[38;5;21;01mtorch\u001b[39;00m\n\u001b[0;32m      2\u001b[0m \u001b[38;5;28;01mimport\u001b[39;00m \u001b[38;5;21;01mtorch\u001b[39;00m\u001b[38;5;21;01m.\u001b[39;00m\u001b[38;5;21;01mnn\u001b[39;00m \u001b[38;5;28;01mas\u001b[39;00m \u001b[38;5;21;01mnn\u001b[39;00m\n\u001b[1;32m----> 3\u001b[0m \u001b[38;5;28;01mimport\u001b[39;00m \u001b[38;5;21;01mmathplotlob\u001b[39;00m\u001b[38;5;21;01m.\u001b[39;00m\u001b[38;5;21;01mpyplot\u001b[39;00m \u001b[38;5;28;01mas\u001b[39;00m \u001b[38;5;21;01mplt\u001b[39;00m\n",
      "\u001b[1;31mModuleNotFoundError\u001b[0m: No module named 'mathplotlob'"
     ]
    }
   ],
   "source": [
    "import torch\n",
    "import torch.nn as nn\n",
    "import mathplotlob.pyplot as plt"
   ]
  }
 ],
 "metadata": {
  "kernelspec": {
   "display_name": "Python 3",
   "language": "python",
   "name": "python3"
  },
  "language_info": {
   "codemirror_mode": {
    "name": "ipython",
    "version": 3
   },
   "file_extension": ".py",
   "mimetype": "text/x-python",
   "name": "python",
   "nbconvert_exporter": "python",
   "pygments_lexer": "ipython3",
   "version": "3.10.7"
  }
 },
 "nbformat": 4,
 "nbformat_minor": 2
}
