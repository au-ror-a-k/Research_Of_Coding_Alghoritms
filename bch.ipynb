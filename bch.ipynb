{
 "cells": [
  {
   "cell_type": "markdown",
   "metadata": {},
   "source": [
    "BCH Code (Bose-Chaudhuri-Hocquenghem Codes):\n",
    "\n",
    "Коди BCH - це циклічні блочні коди, які використовуються для виявлення та виправлення помилок у передачі даних. Вони є розширенням кодів Хеммінга та призначені для виявлення та виправлення більшої кількості помилок, включаючи відомий клас кодів Хеммінга."
   ]
  },
  {
   "cell_type": "markdown",
   "metadata": {},
   "source": [
    "Кодування BCH:\n",
    "Вибір параметрів: Визначте параметри коду BCH, такі як довжина коду (n), кількість перевірочних бітів (m), і відстань виправлення помилок (t).\n",
    "Генерація породжуючого полінома: На основі параметрів коду згенеруйте породжуючий поліном. Зазвичай це робиться за допомогою примітивних елементів у розширеному полі Галуа GF(2^m).\n",
    "\n",
    "Кодування повідомлення: Розбийте початкове повідомлення на блоки довжиною k, де k = n - m. Додайте до кожного блоку перевірочні біти, обчислені як залишок від ділення полінома, що представляє блок, на породжуючий поліном.\n",
    "\n",
    "Формування кодового слова: Зіберіть кодове слово, об'єднуючи початкові блоки і відповідні перевірочні біти.\n",
    "\n",
    "Декодування BCH:\n",
    "\n",
    "Отримання прийнятого слова: Отримайте прийняте слово, включаючи інформаційні та перевірочні біти.\n",
    "\n",
    "Синдромний декодування: Обчисліть синдром для прийнятого слова, використовуючи прийняті перевірочні біти та породжуючий поліном. Якщо синдром нульовий, то немає помилок і повідомлення вважається коректно прийнятим. У протилежному випадку переходьте до кроку 3.\n",
    "\n",
    "Визначення місця помилок: Використовуйте синдром для визначення місця помилок у кодовому слові.\n",
    "\n",
    "Пошук та виправлення помилок: Використовуйте алгоритми виправлення помилок, такі як метод Чейза, для пошуку та виправлення помилок у кодовому слові.\n",
    "\n",
    "Відновлення початкового повідомлення: Після виправлення помилок видаліть перевірочні біти та відновіть початкові блоки повідомлення."
   ]
  },
  {
   "cell_type": "code",
   "execution_count": 3,
   "metadata": {},
   "outputs": [
    {
     "name": "stdout",
     "output_type": "stream",
     "text": [
      "[[1, 0, 0, 0], [1, 1, 0], [1, 0, 1], [1, 0, 0, 0], [1, 1, 0, 0], [1, 0, 1, 0], [1, 0, 0, 1]]\n",
      "Породжуючий поліном для BCH коду з n = 4 та t = 2: [1, 0, 0, 0]\n"
     ]
    }
   ],
   "source": [
    "def generate_generator_polynomial(m, t):\n",
    "    polynomials = [[1] + [0] * i for i in range(m)]\n",
    "\n",
    "    for i in range(1, t):\n",
    "        new_polynomials = []\n",
    "        for poly in polynomials:\n",
    "            for j in range(m):\n",
    "                if j >= len(poly):\n",
    "                    continue\n",
    "                new_poly = poly.copy()\n",
    "                new_poly[j] = 1\n",
    "                if new_poly not in new_polynomials:\n",
    "                    new_polynomials.append(new_poly)\n",
    "\n",
    "        polynomials.extend(new_polynomials)\n",
    "\n",
    "    \n",
    "    polynomial_values = [\n",
    "        (poly, int(\"\".join(map(str, poly)), 2)) for poly in polynomials\n",
    "    ]\n",
    "    \n",
    "    generator_polynomials = []\n",
    "    \n",
    "    for _, elem in enumerate(polynomial_values):\n",
    "        if elem[1] >= 2 * t + 1:\n",
    "            generator_polynomials.append(elem[0])\n",
    "\n",
    "    print(generator_polynomials)\n",
    "    return generator_polynomials[0]\n",
    "\n",
    "n = 4\n",
    "t = 2\n",
    "\n",
    "generator_polynomial = generate_generator_polynomial(n, t)\n",
    "print(\n",
    "    \"Породжуючий поліном для BCH коду з n = {} та t = {}: {}\".format(\n",
    "        n, t, generator_polynomial\n",
    "    )\n",
    ")"
   ]
  },
  {
   "cell_type": "code",
   "execution_count": 4,
   "metadata": {},
   "outputs": [
    {
     "name": "stdout",
     "output_type": "stream",
     "text": [
      "[1, 0, 0, 0]\n",
      "1000\n"
     ]
    }
   ],
   "source": [
    "def to_string(polynomial):\n",
    "    str_polynom = \"\"\n",
    "    for i in range(len(polynomial)):\n",
    "        str_polynom += str(polynomial[i])\n",
    "    return str_polynom\n",
    "\n",
    "print(generator_polynomial)\n",
    "print(to_string(generator_polynomial))"
   ]
  },
  {
   "cell_type": "code",
   "execution_count": 13,
   "metadata": {},
   "outputs": [
    {
     "name": "stdout",
     "output_type": "stream",
     "text": [
      "('0001', '1000')\n"
     ]
    }
   ],
   "source": [
    "def align_size(dividend, divisor):\n",
    "    # Визначаємо довжини дивідента та дивізора\n",
    "    dividend_length = len(dividend)\n",
    "    divisor_length = len(divisor)\n",
    "\n",
    "    # Знаходимо максимальну довжину\n",
    "    max_length = max(dividend_length, divisor_length)\n",
    "\n",
    "    # Вирівнюємо довжини дивідента та дивізора, додаючи нулі до початку меншого\n",
    "    if dividend_length < max_length:\n",
    "        diff = max_length - dividend_length\n",
    "        dividend = \"0\" * diff + dividend\n",
    "    elif divisor_length < max_length:\n",
    "        diff = max_length - divisor_length\n",
    "        divisor = \"0\" * diff + divisor\n",
    "\n",
    "    return dividend, divisor\n",
    "\n",
    "\n",
    "dividend = \"01\"\n",
    "divisor = to_string(generator_polynomial)\n",
    "\n",
    "print(align_size(dividend, divisor))"
   ]
  },
  {
   "cell_type": "code",
   "execution_count": 23,
   "metadata": {},
   "outputs": [
    {
     "name": "stdout",
     "output_type": "stream",
     "text": [
      "Частка: 0\n",
      "Залишок: 1\n"
     ]
    }
   ],
   "source": [
    "dividend = \"01\"\n",
    "divisor = to_string(generator_polynomial)\n",
    "\n",
    "dividend, divisor = align_size(dividend, divisor)\n",
    "\n",
    "def binary_division(dividend, divisor):\n",
    "    dividend_length = len(dividend)\n",
    "    divisor_length = len(divisor)\n",
    "\n",
    "    # Проводимо ділення за допомогою операції XOR\n",
    "    chastka = \"\"\n",
    "    current_dividend = dividend[\n",
    "        :divisor_length\n",
    "    ]  # Починаємо з перших n символів дивідента\n",
    "    for i in range(divisor_length, dividend_length):\n",
    "        # Додаємо нуль до частки, якщо не можемо виконати ділення\n",
    "        if current_dividend[0] == \"0\":\n",
    "            chastka += \"0\"\n",
    "        else:\n",
    "            chastka += \"1\"\n",
    "            # Виконуємо операцію XOR\n",
    "            current_dividend = \"\".join(\n",
    "                str(int(current_dividend[j]) ^ int(divisor[j]))\n",
    "                for j in range(divisor_length)\n",
    "            )\n",
    "        # Додаємо наступний біт дивідента\n",
    "        current_dividend += dividend[i]\n",
    "\n",
    "    # Останнє ділення\n",
    "    if current_dividend[0] == \"0\":\n",
    "        chastka += \"0\"\n",
    "    else:\n",
    "        chastka += \"1\"\n",
    "\n",
    "    # Отримуємо залишок (останні n-1 біт дивідента)\n",
    "    zalyshok = current_dividend[-1]\n",
    "\n",
    "    return chastka, zalyshok\n",
    "\n",
    "\n",
    "chastka, zalyshok = binary_division(dividend, divisor)\n",
    "print(\"Частка:\", chastka)\n",
    "print(\"Залишок:\", zalyshok)"
   ]
  },
  {
   "cell_type": "code",
   "execution_count": 31,
   "metadata": {},
   "outputs": [
    {
     "name": "stdout",
     "output_type": "stream",
     "text": [
      "011000011\n"
     ]
    }
   ],
   "source": [
    "def encoding(k, message, polynomial):\n",
    "    encoded_message = \"\"\n",
    "    blocks = [message[i : i + k] for i in range(0, len(message), k)]\n",
    "    # print(blocks)\n",
    "    checking_bits = []\n",
    "    for i in range(len(blocks)):\n",
    "        checking_bits.append(binary_division(blocks[i], polynomial)[1])\n",
    "    # print(checking_bits)\n",
    "\n",
    "    for i in range(len(blocks)):\n",
    "        encoded_message += blocks[i]\n",
    "        encoded_message += checking_bits[i]\n",
    "\n",
    "    return encoded_message\n",
    "\n",
    "k = 2\n",
    "message = \"010001\"\n",
    "pol = \"1000\"\n",
    "print(encoding(k, message, pol))"
   ]
  },
  {
   "cell_type": "code",
   "execution_count": 32,
   "metadata": {},
   "outputs": [
    {
     "name": "stdout",
     "output_type": "stream",
     "text": [
      "Початкове повідомлення: 011000011\n",
      "Повідомлення з помилками: 010100011\n"
     ]
    }
   ],
   "source": [
    "import random\n",
    "\n",
    "def add_errors(sequence, error_probability):\n",
    "    # Перетворюємо рядок у список символів для зручності модифікації\n",
    "    sequence_list = list(sequence)\n",
    "\n",
    "    # Проходимо по кожному символу у послідовності\n",
    "    for i in range(len(sequence_list)):\n",
    "        # Генеруємо випадкове число для визначення, чи потрібно змінити даний біт\n",
    "        if random.random() < error_probability:\n",
    "            # Змінюємо символ на протилежний: '0' на '1' або '1' на '0'\n",
    "            sequence_list[i] = \"0\" if sequence_list[i] == \"1\" else \"1\"\n",
    "\n",
    "    # Повертаємо модифіковану послідовність у форматі рядка\n",
    "    return \"\".join(sequence_list)\n",
    "\n",
    "\n",
    "# Приклад використання:\n",
    "original_sequence = \"011000011\"\n",
    "error_probability = 0.3  # Ймовірність помилки - 10%\n",
    "\n",
    "# Додаємо помилки до повідомлення\n",
    "noisy_sequence = add_errors(original_sequence, error_probability)\n",
    "print(\"Початкове повідомлення:\", original_sequence)\n",
    "print(\"Повідомлення з помилками:\", noisy_sequence)"
   ]
  },
  {
   "cell_type": "code",
   "execution_count": null,
   "metadata": {},
   "outputs": [],
   "source": [
    "def decode():\n",
    "    pass"
   ]
  }
 ],
 "metadata": {
  "kernelspec": {
   "display_name": "Python 3",
   "language": "python",
   "name": "python3"
  },
  "language_info": {
   "codemirror_mode": {
    "name": "ipython",
    "version": 3
   },
   "file_extension": ".py",
   "mimetype": "text/x-python",
   "name": "python",
   "nbconvert_exporter": "python",
   "pygments_lexer": "ipython3",
   "version": "3.10.7"
  }
 },
 "nbformat": 4,
 "nbformat_minor": 2
}
